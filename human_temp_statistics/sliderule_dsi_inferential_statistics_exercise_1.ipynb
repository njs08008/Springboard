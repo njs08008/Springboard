{
 "cells": [
  {
   "cell_type": "markdown",
   "metadata": {},
   "source": [
    "# What is the True Normal Human Body Temperature? \n",
    "\n",
    "#### Background\n",
    "\n",
    "The mean normal body temperature was held to be 37$^{\\circ}$C or 98.6$^{\\circ}$F for more than 120 years since it was first conceptualized and reported by Carl Wunderlich in a famous 1868 book. But, is this value statistically correct?"
   ]
  },
  {
   "cell_type": "markdown",
   "metadata": {},
   "source": [
    "<h3>Exercises</h3>\n",
    "\n",
    "<p>In this exercise, you will analyze a dataset of human body temperatures and employ the concepts of hypothesis testing, confidence intervals, and statistical significance.</p>\n",
    "\n",
    "<p>Answer the following questions <b>in this notebook below and submit to your Github account</b>.</p> \n",
    "\n",
    "<ol>\n",
    "<li>  Is the distribution of body temperatures normal? \n",
    "    <ul>\n",
    "    <li> Although this is not a requirement for CLT to hold (read CLT carefully), it gives us some peace of mind that the population may also be normally distributed if we assume that this sample is representative of the population.\n",
    "    </ul>\n",
    "<li>  Is the sample size large? Are the observations independent?\n",
    "    <ul>\n",
    "    <li> Remember that this is a condition for the CLT, and hence the statistical tests we are using, to apply.\n",
    "    </ul>\n",
    "<li>  Is the true population mean really 98.6 degrees F?\n",
    "    <ul>\n",
    "    <li> Would you use a one-sample or two-sample test? Why?\n",
    "    <li> In this situation, is it appropriate to use the $t$ or $z$ statistic? \n",
    "    <li> Now try using the other test. How is the result be different? Why?\n",
    "    </ul>\n",
    "<li>  Draw a small sample of size 10 from the data and repeat both tests. \n",
    "    <ul>\n",
    "    <li> Which one is the correct one to use? \n",
    "    <li> What do you notice? What does this tell you about the difference in application of the $t$ and $z$ statistic?\n",
    "    </ul>\n",
    "<li>  At what temperature should we consider someone's temperature to be \"abnormal\"?\n",
    "    <ul>\n",
    "    <li> Start by computing the margin of error and confidence interval.\n",
    "    </ul>\n",
    "<li>  Is there a significant difference between males and females in normal temperature?\n",
    "    <ul>\n",
    "    <li> What test did you use and why?\n",
    "    <li> Write a story with your conclusion in the context of the original problem.\n",
    "    </ul>\n",
    "</ol>\n",
    "\n",
    "You can include written notes in notebook cells using Markdown: \n",
    "   - In the control panel at the top, choose Cell > Cell Type > Markdown\n",
    "   - Markdown syntax: http://nestacms.com/docs/creating-content/markdown-cheat-sheet\n",
    "\n",
    "#### Resources\n",
    "\n",
    "+ Information and data sources: http://www.amstat.org/publications/jse/datasets/normtemp.txt, http://www.amstat.org/publications/jse/jse_data_archive.htm\n",
    "+ Markdown syntax: http://nestacms.com/docs/creating-content/markdown-cheat-sheet\n",
    "\n",
    "****"
   ]
  },
  {
   "cell_type": "markdown",
   "metadata": {},
   "source": [
    "### Exploratory Data Analysis"
   ]
  },
  {
   "cell_type": "markdown",
   "metadata": {},
   "source": [
    "First import the necessary packages and data."
   ]
  },
  {
   "cell_type": "code",
   "execution_count": 1,
   "metadata": {
    "collapsed": true
   },
   "outputs": [],
   "source": [
    "import numpy as np\n",
    "import pandas as pd\n",
    "import scipy.stats as stats\n",
    "from matplotlib import pyplot as plt\n",
    "from matplotlib import mlab\n",
    "import seaborn as sns\n",
    "sns.set()\n",
    "\n",
    "df = pd.read_csv('data/human_body_temperature.csv')"
   ]
  },
  {
   "cell_type": "markdown",
   "metadata": {},
   "source": [
    "Let's check to see what the data looks like and whether there are any missing values."
   ]
  },
  {
   "cell_type": "code",
   "execution_count": 2,
   "metadata": {},
   "outputs": [
    {
     "name": "stdout",
     "output_type": "stream",
     "text": [
      "<class 'pandas.core.frame.DataFrame'>\n",
      "RangeIndex: 130 entries, 0 to 129\n",
      "Data columns (total 3 columns):\n",
      "temperature    130 non-null float64\n",
      "gender         130 non-null object\n",
      "heart_rate     130 non-null float64\n",
      "dtypes: float64(2), object(1)\n",
      "memory usage: 3.1+ KB\n"
     ]
    },
    {
     "data": {
      "text/html": [
       "<div>\n",
       "<style scoped>\n",
       "    .dataframe tbody tr th:only-of-type {\n",
       "        vertical-align: middle;\n",
       "    }\n",
       "\n",
       "    .dataframe tbody tr th {\n",
       "        vertical-align: top;\n",
       "    }\n",
       "\n",
       "    .dataframe thead th {\n",
       "        text-align: right;\n",
       "    }\n",
       "</style>\n",
       "<table border=\"1\" class=\"dataframe\">\n",
       "  <thead>\n",
       "    <tr style=\"text-align: right;\">\n",
       "      <th></th>\n",
       "      <th>temperature</th>\n",
       "      <th>heart_rate</th>\n",
       "    </tr>\n",
       "  </thead>\n",
       "  <tbody>\n",
       "    <tr>\n",
       "      <th>count</th>\n",
       "      <td>130.000000</td>\n",
       "      <td>130.000000</td>\n",
       "    </tr>\n",
       "    <tr>\n",
       "      <th>mean</th>\n",
       "      <td>98.249231</td>\n",
       "      <td>73.761538</td>\n",
       "    </tr>\n",
       "    <tr>\n",
       "      <th>std</th>\n",
       "      <td>0.733183</td>\n",
       "      <td>7.062077</td>\n",
       "    </tr>\n",
       "    <tr>\n",
       "      <th>min</th>\n",
       "      <td>96.300000</td>\n",
       "      <td>57.000000</td>\n",
       "    </tr>\n",
       "    <tr>\n",
       "      <th>25%</th>\n",
       "      <td>97.800000</td>\n",
       "      <td>69.000000</td>\n",
       "    </tr>\n",
       "    <tr>\n",
       "      <th>50%</th>\n",
       "      <td>98.300000</td>\n",
       "      <td>74.000000</td>\n",
       "    </tr>\n",
       "    <tr>\n",
       "      <th>75%</th>\n",
       "      <td>98.700000</td>\n",
       "      <td>79.000000</td>\n",
       "    </tr>\n",
       "    <tr>\n",
       "      <th>max</th>\n",
       "      <td>100.800000</td>\n",
       "      <td>89.000000</td>\n",
       "    </tr>\n",
       "  </tbody>\n",
       "</table>\n",
       "</div>"
      ],
      "text/plain": [
       "       temperature  heart_rate\n",
       "count   130.000000  130.000000\n",
       "mean     98.249231   73.761538\n",
       "std       0.733183    7.062077\n",
       "min      96.300000   57.000000\n",
       "25%      97.800000   69.000000\n",
       "50%      98.300000   74.000000\n",
       "75%      98.700000   79.000000\n",
       "max     100.800000   89.000000"
      ]
     },
     "execution_count": 2,
     "metadata": {},
     "output_type": "execute_result"
    }
   ],
   "source": [
    "df.info()\n",
    "df.describe()"
   ]
  },
  {
   "cell_type": "markdown",
   "metadata": {},
   "source": [
    "Since we have heart rate data as well, it doesn't hurt to check whether there is any relationship between it and the temperature data.  A scatter plot is a good way to start analyzing that."
   ]
  },
  {
   "cell_type": "code",
   "execution_count": 3,
   "metadata": {},
   "outputs": [
    {
     "data": {
      "image/png": "[encoded data removed]",
      "text/plain": [
       "<matplotlib.figure.Figure at 0x1a190419b0>"
      ]
     },
     "metadata": {},
     "output_type": "display_data"
    }
   ],
   "source": [
    "plt.scatter(df.temperature,df.heart_rate)\n",
    "plt.xlabel('Temperature (F)')\n",
    "plt.ylabel('Heart Rate (bpm)')\n",
    "plt.show()"
   ]
  },
  {
   "cell_type": "markdown",
   "metadata": {},
   "source": [
    "There doesn't appear to be a relationship between the two.  That can be further quantified by computing the correlation between them.  We expect it to have a small absolute value."
   ]
  },
  {
   "cell_type": "code",
   "execution_count": 4,
   "metadata": {},
   "outputs": [
    {
     "data": {
      "text/plain": [
       "array([[1.       , 0.2536564],\n",
       "       [0.2536564, 1.       ]])"
      ]
     },
     "execution_count": 4,
     "metadata": {},
     "output_type": "execute_result"
    }
   ],
   "source": [
    "np.corrcoef(df.temperature,df.heart_rate)"
   ]
  },
  {
   "cell_type": "markdown",
   "metadata": {},
   "source": [
    "There is not a strong relationship between body temperature and heart rate, but that is okay since heart rate was never asked about anyway.  What about temperature and gender?"
   ]
  },
  {
   "cell_type": "code",
   "execution_count": 5,
   "metadata": {},
   "outputs": [
    {
     "data": {
      "image/png": "[encoded data removed]",
      "text/plain": [
       "<matplotlib.figure.Figure at 0x1a18ffe630>"
      ]
     },
     "metadata": {},
     "output_type": "display_data"
    }
   ],
   "source": [
    "sns.swarmplot(df.gender,df.temperature)\n",
    "plt.xlabel('Gender')\n",
    "plt.ylabel('Temperature (F)')\n",
    "plt.show()"
   ]
  },
  {
   "cell_type": "markdown",
   "metadata": {},
   "source": [
    "It appears that there are more female outliers than there are male ones.  Excluding the outliers, women look like they have a smaller variance and higher mean.\n",
    "\n",
    "Let's check this quantitatively.  To do so, first separate the data by gender, then compute statistics on each."
   ]
  },
  {
   "cell_type": "code",
   "execution_count": 6,
   "metadata": {},
   "outputs": [],
   "source": [
    "women=df[df.gender=='F']\n",
    "men=df[df.gender=='M']"
   ]
  },
  {
   "cell_type": "code",
   "execution_count": 7,
   "metadata": {},
   "outputs": [
    {
     "data": {
      "text/plain": [
       "count     65.000000\n",
       "mean      98.393846\n",
       "std        0.743488\n",
       "min       96.400000\n",
       "25%       98.000000\n",
       "50%       98.400000\n",
       "75%       98.800000\n",
       "max      100.800000\n",
       "Name: temperature, dtype: float64"
      ]
     },
     "execution_count": 7,
     "metadata": {},
     "output_type": "execute_result"
    }
   ],
   "source": [
    "women.temperature.describe()"
   ]
  },
  {
   "cell_type": "code",
   "execution_count": 8,
   "metadata": {},
   "outputs": [
    {
     "data": {
      "text/plain": [
       "count    65.000000\n",
       "mean     98.104615\n",
       "std       0.698756\n",
       "min      96.300000\n",
       "25%      97.600000\n",
       "50%      98.100000\n",
       "75%      98.600000\n",
       "max      99.500000\n",
       "Name: temperature, dtype: float64"
      ]
     },
     "execution_count": 8,
     "metadata": {},
     "output_type": "execute_result"
    }
   ],
   "source": [
    "men.temperature.describe()"
   ]
  },
  {
   "cell_type": "markdown",
   "metadata": {},
   "source": [
    "Indeed, women do have a higher mean and median, but their variance is larger, likely due to the outliers.  A box plot comparison can help us visualize this information."
   ]
  },
  {
   "cell_type": "code",
   "execution_count": 9,
   "metadata": {},
   "outputs": [
    {
     "data": {
      "image/png": "[encoded data removed]",
      "text/plain": [
       "<matplotlib.figure.Figure at 0x1a1918f9b0>"
      ]
     },
     "metadata": {},
     "output_type": "display_data"
    }
   ],
   "source": [
    "sns.boxplot(df.gender,df.temperature)\n",
    "plt.xlabel('Gender')\n",
    "plt.ylabel('Temperature (F)')\n",
    "plt.show()"
   ]
  },
  {
   "cell_type": "markdown",
   "metadata": {},
   "source": [
    "The box plot ignore outliers.  When doing this, women clearly have higher temperatures overall, and their interquartile range is in fact smaller."
   ]
  },
  {
   "cell_type": "markdown",
   "metadata": {},
   "source": [
    "### Exercises"
   ]
  },
  {
   "cell_type": "markdown",
   "metadata": {},
   "source": [
    "**1) Is the distribution of body temperature normal?**\n",
    "\n",
    "To answer this question, plot a histogram of body temperatures and overlay it with a normal curve of the sample mean and variance."
   ]
  },
  {
   "cell_type": "code",
   "execution_count": 10,
   "metadata": {},
   "outputs": [
    {
     "data": {
      "image/png": "[encoded data removed]",
      "text/plain": [
       "<matplotlib.figure.Figure at 0x1a19269da0>"
      ]
     },
     "metadata": {},
     "output_type": "display_data"
    }
   ],
   "source": [
    "# Plot the temperature histogram:\n",
    "plt.hist(df.temperature,bins=np.int(np.sqrt(len(df))),normed=True)\n",
    "\n",
    "# Overlay the normal pdf:\n",
    "mu=np.mean(df.temperature)\n",
    "sigma=np.std(df.temperature)\n",
    "x=np.linspace(mu-3*sigma,mu+3*sigma,100)\n",
    "plt.plot(x,mlab.normpdf(x,mu,sigma))\n",
    "\n",
    "plt.xlabel('Temperature (F)')\n",
    "plt.ylabel('PDF')\n",
    "plt.show()"
   ]
  },
  {
   "cell_type": "markdown",
   "metadata": {},
   "source": [
    "While temperature does appear roughly normal, this graphic suffers from binning bias, as the choice of 11 bins was somewhat arbitrary.  Some bin choices look closer to normal than others.  A smoother and unbiased visual can be obtained by instead overlaying the cumulative distribution functions."
   ]
  },
  {
   "cell_type": "code",
   "execution_count": 11,
   "metadata": {},
   "outputs": [
    {
     "data": {
      "image/png": "[encoded data removed]",
      "text/plain": [
       "<matplotlib.figure.Figure at 0x1a1928a1d0>"
      ]
     },
     "metadata": {},
     "output_type": "display_data"
    }
   ],
   "source": [
    "# Plot the normal cdf:\n",
    "np.random.seed(0)\n",
    "samples=np.random.normal(mu,sigma,10000)\n",
    "x_theor=np.sort(samples)\n",
    "y_theor=np.arange(1,len(x_theor)+1)/len(x_theor)\n",
    "plt.plot(x_theor,y_theor,marker='.',linestyle='none',alpha=.1,color='k')\n",
    "\n",
    "# Overlay the the temperature cdf:\n",
    "x=np.sort(df.temperature)\n",
    "y=np.arange(1,len(x)+1)/len(x)\n",
    "plt.plot(x,y,marker='.',linestyle='none',color='r')\n",
    "\n",
    "plt.xlabel('Temperature (F)')\n",
    "plt.ylabel('CDF')\n",
    "plt.show()"
   ]
  },
  {
   "cell_type": "markdown",
   "metadata": {},
   "source": [
    "This more strongly confirms that yes, temperature distribution is normal."
   ]
  },
  {
   "cell_type": "markdown",
   "metadata": {},
   "source": [
    "**2) Is the sample size large?  Are the observations independent?**"
   ]
  },
  {
   "cell_type": "markdown",
   "metadata": {},
   "source": [
    "In order to apply the central limit theorem, it is commonly accepted that `n=40` is a sufficiently large sample size.  Since we have 130 observations, we have enough.  Even splitting the observation by gender, there are still 65 each, which is sufficient.\n",
    "\n",
    "There is no readme accompanying the data to describe how it was obtained.  One can only assume that the data points are independent, i.e. taken from different individuals."
   ]
  },
  {
   "cell_type": "markdown",
   "metadata": {},
   "source": [
    "**3) Is the true population mean really 98.6 degrees F?**"
   ]
  },
  {
   "cell_type": "markdown",
   "metadata": {},
   "source": [
    "This question can be addressed using a one sample *t*-test, as we are trying to determine whether a single population has a mean equal to a fix value.  On the other hand, a two sample *t*-test compares whether two populations have the same mean, such as comparing the men to the women.\n",
    "\n",
    "Furthermore, it is fine to use the *t* statistic at all in this case because the data is continuous, approximately normally distributed, independent, and has no major outliers.\n",
    "\n",
    "Using the *z* statistic requires knowing the standard deviation of the population (*not* the sample), which we do not know, so it cannot accurately be used.\n",
    "\n",
    "The sample mean is approximately 98.25.  The *p* values of the *t*-test measures how likely it is that a sample of 130 temperatures would have this mean assuming the true population mean is 98.6.  We will take `p=.05` to be statistically significant."
   ]
  },
  {
   "cell_type": "code",
   "execution_count": 12,
   "metadata": {},
   "outputs": [
    {
     "data": {
      "text/plain": [
       "Ttest_1sampResult(statistic=-5.4548232923645195, pvalue=2.4106320415561276e-07)"
      ]
     },
     "execution_count": 12,
     "metadata": {},
     "output_type": "execute_result"
    }
   ],
   "source": [
    "# Compute a one sample t test:\n",
    "stats.ttest_1samp(df.temperature,98.6)"
   ]
  },
  {
   "cell_type": "markdown",
   "metadata": {},
   "source": [
    "The resulting *p*-value of `p=2.4e-07` shows that it is highly unlike that 98.6 is the true population mean."
   ]
  },
  {
   "cell_type": "markdown",
   "metadata": {},
   "source": [
    "To compute the *p*-value using the *z* statistic, we will estimate the population standard deviation by assuming it is equal to the sample deviation."
   ]
  },
  {
   "cell_type": "code",
   "execution_count": 13,
   "metadata": {},
   "outputs": [
    {
     "data": {
      "text/plain": [
       "2.1761575829410943e-08"
      ]
     },
     "execution_count": 13,
     "metadata": {},
     "output_type": "execute_result"
    }
   ],
   "source": [
    "# Compute the z score:\n",
    "z=(np.mean(df.temperature)-98.6)/(np.std(df.temperature)/np.sqrt(len(df.temperature)))\n",
    "\n",
    "# Compute the associated p value:\n",
    "stats.norm.cdf(z)"
   ]
  },
  {
   "cell_type": "markdown",
   "metadata": {},
   "source": [
    "With `p=2.2e-08`, the conclusion is the same: we have a statistically significant result and should reject the null hypothesis that the average population temperature is 98.6 F.  These values are so close to 0 that there should be almost no doubt."
   ]
  },
  {
   "cell_type": "markdown",
   "metadata": {},
   "source": [
    "**4) Draw a small sample of size 10 from the data and repeat both tests.**"
   ]
  },
  {
   "cell_type": "markdown",
   "metadata": {},
   "source": [
    "With a smaller sample size, the *z* test will not be accurate.  It requires at least 30 to 40 samples in order to invoke the CLT, so only 10 samples should yield extremely inaccurate results.  On the other hand, the *t* test uses the number of samples as an explicit argument and can therefore accurately compensate for small sample sizes."
   ]
  },
  {
   "cell_type": "code",
   "execution_count": 14,
   "metadata": {},
   "outputs": [],
   "source": [
    "# Draw a smaller sample of size 10 without replacement:\n",
    "np.random.seed(0)\n",
    "few_temps=np.random.choice(df.temperature,10,replace=False)"
   ]
  },
  {
   "cell_type": "code",
   "execution_count": 15,
   "metadata": {},
   "outputs": [
    {
     "data": {
      "text/plain": [
       "Ttest_1sampResult(statistic=-1.624999999999938, pvalue=0.13860835307134423)"
      ]
     },
     "execution_count": 15,
     "metadata": {},
     "output_type": "execute_result"
    }
   ],
   "source": [
    "# Compute a one sample t test:\n",
    "stats.ttest_1samp(few_temps,98.6)"
   ]
  },
  {
   "cell_type": "code",
   "execution_count": 16,
   "metadata": {},
   "outputs": [
    {
     "data": {
      "text/plain": [
       "0.04336543241377733"
      ]
     },
     "execution_count": 16,
     "metadata": {},
     "output_type": "execute_result"
    }
   ],
   "source": [
    "# Compute the z score:\n",
    "z=(np.mean(few_temps)-98.6)/(np.std(few_temps)/np.sqrt(len(few_temps)))\n",
    "\n",
    "# Compute the associated p value:\n",
    "stats.norm.cdf(z)"
   ]
  },
  {
   "cell_type": "markdown",
   "metadata": {},
   "source": [
    "In this case, the *t* test says the results are not significant while the *z* test says it is significant.  Let's further analyze this."
   ]
  },
  {
   "cell_type": "code",
   "execution_count": 17,
   "metadata": {},
   "outputs": [
    {
     "data": {
      "text/plain": [
       "98.34"
      ]
     },
     "execution_count": 17,
     "metadata": {},
     "output_type": "execute_result"
    }
   ],
   "source": [
    "np.mean(few_temps)"
   ]
  },
  {
   "cell_type": "markdown",
   "metadata": {},
   "source": [
    "The mean of this smaller sample is 98.34 compared to 98.25 for the full sample.  To say that this indicates the true mean is not 98.6 with a sample size of only 10 is ridiculous.  Even though we know from the larger sample size that 98.6 is in fact wrong, we should not be able to conclude this from a sample of size 10 with such a close mean.  The *z* statistic should not be used with small samples."
   ]
  },
  {
   "cell_type": "markdown",
   "metadata": {},
   "source": [
    "**5) At what temperature should we consider someone's temperature to be \"abnormal\"?**"
   ]
  },
  {
   "cell_type": "markdown",
   "metadata": {},
   "source": [
    "The answer to this question is dependent on the definition of abnormal.  Is normal only cosidered to be the temperature of a perfectly healthy subject?  Does normal include subjects who are only mildly sick with a slightly elevated temperature?  Answering these questions would require more outside information.  For our purposes, we will take normal to mean perfectly healthy and assume all data points are from healthy subjects."
   ]
  },
  {
   "cell_type": "markdown",
   "metadata": {},
   "source": [
    "Because humans vary widely and yet are mostly healthy, we will use a very lage confidence interval, say 99.9%.  Since the true standard deviation is not known, it is best to use a *t* test with the standard error of measurement."
   ]
  },
  {
   "cell_type": "code",
   "execution_count": 18,
   "metadata": {},
   "outputs": [
    {
     "name": "stdout",
     "output_type": "stream",
     "text": [
      "confidence interval: (98.03268265832011, 98.46577888014146)\n",
      "range of error: 0.43309622182134433\n"
     ]
    }
   ],
   "source": [
    "confidence=stats.t.interval(.999,len(df.temperature)-1,\n",
    "                 loc=np.mean(df.temperature),scale=stats.sem(df.temperature))\n",
    "print('confidence interval: ' + str(confidence))\n",
    "print('range of error: ' + str(confidence[1]-confidence[0]))"
   ]
  },
  {
   "cell_type": "markdown",
   "metadata": {},
   "source": [
    "Even with this large of a percentage confidence interval, the range of normal temperatures is still very small: the margin of error is only .433 degrees F.  This seems awfully restrictive."
   ]
  },
  {
   "cell_type": "code",
   "execution_count": 19,
   "metadata": {},
   "outputs": [
    {
     "name": "stdout",
     "output_type": "stream",
     "text": [
      "103\n",
      "0.7923076923076923\n"
     ]
    }
   ],
   "source": [
    "# Number of samples outside this interval\n",
    "print(len(df[(df.temperature<confidence[0]) | (df.temperature>confidence[1])]))\n",
    "\n",
    "# Percent of samples outside this interval:\n",
    "print((len(df[(df.temperature<confidence[0]) | (df.temperature>confidence[1])]))\n",
    "      /len(df.temperature))"
   ]
  },
  {
   "cell_type": "markdown",
   "metadata": {},
   "source": [
    "It turns out the vast majority of samples fell outside this range.  Recall that the standard deviation of the samples was .73 (which is larger that the margin of error!), so it makes sense that most values fall outside the interval.\n",
    "\n",
    "To settle this incongruence, recall that this confidence interval is simply a measurement of where the mean lies.  It says nothing about where individual points may lie.\n",
    "\n",
    "Analyzing abnormal temperatures would likely require a much larger sample size as well as additional information such as whether the person was seriously ill, etc."
   ]
  },
  {
   "cell_type": "markdown",
   "metadata": {},
   "source": [
    "**6) Is there a significant difference between males and females in normal temperature?**"
   ]
  },
  {
   "cell_type": "markdown",
   "metadata": {},
   "source": [
    "First compute the respective 95% confidence intervals of the mean temperature of each gender.  Recall that we already divided the data by gender earlier."
   ]
  },
  {
   "cell_type": "code",
   "execution_count": 20,
   "metadata": {},
   "outputs": [
    {
     "name": "stdout",
     "output_type": "stream",
     "text": [
      "women confidence interval: (98.20961890918223, 98.57807339851003)\n",
      "men confidence interval: (97.93147218445705, 98.27775858477375)\n"
     ]
    }
   ],
   "source": [
    "w_confidence=stats.t.interval(.95,len(women.temperature)-1,\n",
    "        loc=np.mean(women.temperature),scale=stats.sem(women.temperature))\n",
    "print('women confidence interval: ' + str(w_confidence))\n",
    "\n",
    "m_confidence=stats.t.interval(.95,len(men.temperature)-1,\n",
    "        loc=np.mean(men.temperature),scale=stats.sem(men.temperature))\n",
    "print('men confidence interval: ' + str(m_confidence))"
   ]
  },
  {
   "cell_type": "markdown",
   "metadata": {},
   "source": [
    "Since there is minimal overlap betweent the two intervals, it seems unlikely that male and female populations have the same mean temperature.  We can quantify this using a two sample *t* test.  Note that this assumes equal variance between men and women.  Women have a slightly higher variance in this data set, but the values are close enough to suffice."
   ]
  },
  {
   "cell_type": "code",
   "execution_count": 21,
   "metadata": {},
   "outputs": [
    {
     "data": {
      "text/plain": [
       "Ttest_indResult(statistic=2.2854345381656103, pvalue=0.02393188312239561)"
      ]
     },
     "execution_count": 21,
     "metadata": {},
     "output_type": "execute_result"
    }
   ],
   "source": [
    "stats.ttest_ind(women.temperature,men.temperature)"
   ]
  },
  {
   "cell_type": "markdown",
   "metadata": {},
   "source": [
    "The *p* value is less .05, so we reject the null hypothesis that mean and women have the same mean temperature.  If we are concerned about differing varaitions, we can repeat the previous calculation negating that assumption, thereby using Welch's *t*-test instead of Student's *t*-test."
   ]
  },
  {
   "cell_type": "code",
   "execution_count": 22,
   "metadata": {},
   "outputs": [
    {
     "data": {
      "text/plain": [
       "Ttest_indResult(statistic=2.285434538165611, pvalue=0.023938264182934196)"
      ]
     },
     "execution_count": 22,
     "metadata": {},
     "output_type": "execute_result"
    }
   ],
   "source": [
    "stats.ttest_ind(women.temperature,men.temperature,equal_var=False)"
   ]
  },
  {
   "cell_type": "markdown",
   "metadata": {},
   "source": [
    "The result is a nearly identical *p* value, so we were likely fine assuming equal variance.  Either way, the null hypothesis is rejected."
   ]
  },
  {
   "cell_type": "markdown",
   "metadata": {},
   "source": [
    "### Summary"
   ]
  },
  {
   "cell_type": "markdown",
   "metadata": {},
   "source": [
    "To conclude, body temperature is roughly normally distributed among humans.  The data indicates that the mean population temperature is almost certainly not the intially reported 98.6 degrees F.  Rather, it is more likely between 98.0 and 98.4 degrees F.  However, this does not mean that a temperature outside of this range is abnormal, as nearly 80% of the data points were outside this range.  The mean temperatures of men and women differed in our sample by .3 degrees F, and with a *p* value of .024 using a two sample *t* test, it seems likely that men and women really do have different average temperatures."
   ]
  }
 ],
 "metadata": {
  "kernelspec": {
   "display_name": "Python 3",
   "language": "python",
   "name": "python3"
  },
  "language_info": {
   "codemirror_mode": {
    "name": "ipython",
    "version": 3
   },
   "file_extension": ".py",
   "mimetype": "text/x-python",
   "name": "python",
   "nbconvert_exporter": "python",
   "pygments_lexer": "ipython3",
   "version": "3.6.3"
  }
 },
 "nbformat": 4,
 "nbformat_minor": 2
}
