{
 "cells": [
  {
   "cell_type": "markdown",
   "metadata": {},
   "source": [
    "## Take Home Challenge 2: Relax Inc. Data Science Challenge"
   ]
  },
  {
   "cell_type": "markdown",
   "metadata": {},
   "source": [
    "The goal of this notebook it to analyze data from the Relax Inc. Data Science Challenge to determine what types of users of this website become adopted users, that is, users who have logged in on three different days during the span of a week at least once in their user history.  Further information describing the data available can be found in the prompt.\n",
    "\n",
    "This analysis is intended to be brief rather than exhaustive in order to get a quick and actionable insight of the data."
   ]
  },
  {
   "cell_type": "markdown",
   "metadata": {},
   "source": [
    "### Load the Data"
   ]
  },
  {
   "cell_type": "markdown",
   "metadata": {},
   "source": [
    "Change the directory commands below as necessary.\n",
    "Copies of the .csv files are available in my repository."
   ]
  },
  {
   "cell_type": "code",
   "execution_count": 1,
   "metadata": {},
   "outputs": [
    {
     "name": "stdout",
     "output_type": "stream",
     "text": [
      "/Users/nick\n"
     ]
    }
   ],
   "source": [
    "cd ~"
   ]
  },
  {
   "cell_type": "code",
   "execution_count": 2,
   "metadata": {},
   "outputs": [
    {
     "name": "stdout",
     "output_type": "stream",
     "text": [
      "/Users/nick/Desktop/Springboard/takehome2/relax_challenge\n"
     ]
    }
   ],
   "source": [
    "cd Desktop/Springboard/takehome2/relax_challenge"
   ]
  },
  {
   "cell_type": "code",
   "execution_count": 3,
   "metadata": {
    "collapsed": true
   },
   "outputs": [],
   "source": [
    "# Import necessary packages\n",
    "import pandas as pd\n",
    "import datetime\n",
    "from collections import defaultdict\n",
    "from collections import Counter\n",
    "from scipy.stats import chisquare"
   ]
  },
  {
   "cell_type": "code",
   "execution_count": 4,
   "metadata": {
    "collapsed": true
   },
   "outputs": [],
   "source": [
    "# Load the data into dataframes\n",
    "engagement=pd.read_csv('takehome_user_engagement.csv')\n",
    "# and convert the account creation time stamp to a date time data type for future manipulation\n",
    "engagement.time_stamp=engagement.time_stamp.astype('datetime64[ns]')\n",
    "\n",
    "users=pd.read_csv('takehome_users.csv',encoding='latin-1')"
   ]
  },
  {
   "cell_type": "markdown",
   "metadata": {},
   "source": [
    "### Initial Inspection"
   ]
  },
  {
   "cell_type": "code",
   "execution_count": 5,
   "metadata": {},
   "outputs": [
    {
     "data": {
      "text/html": [
       "<div>\n",
       "<style scoped>\n",
       "    .dataframe tbody tr th:only-of-type {\n",
       "        vertical-align: middle;\n",
       "    }\n",
       "\n",
       "    .dataframe tbody tr th {\n",
       "        vertical-align: top;\n",
       "    }\n",
       "\n",
       "    .dataframe thead th {\n",
       "        text-align: right;\n",
       "    }\n",
       "</style>\n",
       "<table border=\"1\" class=\"dataframe\">\n",
       "  <thead>\n",
       "    <tr style=\"text-align: right;\">\n",
       "      <th></th>\n",
       "      <th>time_stamp</th>\n",
       "      <th>user_id</th>\n",
       "      <th>visited</th>\n",
       "    </tr>\n",
       "  </thead>\n",
       "  <tbody>\n",
       "    <tr>\n",
       "      <th>0</th>\n",
       "      <td>2014-04-22 03:53:30</td>\n",
       "      <td>1</td>\n",
       "      <td>1</td>\n",
       "    </tr>\n",
       "    <tr>\n",
       "      <th>1</th>\n",
       "      <td>2013-11-15 03:45:04</td>\n",
       "      <td>2</td>\n",
       "      <td>1</td>\n",
       "    </tr>\n",
       "    <tr>\n",
       "      <th>2</th>\n",
       "      <td>2013-11-29 03:45:04</td>\n",
       "      <td>2</td>\n",
       "      <td>1</td>\n",
       "    </tr>\n",
       "    <tr>\n",
       "      <th>3</th>\n",
       "      <td>2013-12-09 03:45:04</td>\n",
       "      <td>2</td>\n",
       "      <td>1</td>\n",
       "    </tr>\n",
       "    <tr>\n",
       "      <th>4</th>\n",
       "      <td>2013-12-25 03:45:04</td>\n",
       "      <td>2</td>\n",
       "      <td>1</td>\n",
       "    </tr>\n",
       "  </tbody>\n",
       "</table>\n",
       "</div>"
      ],
      "text/plain": [
       "           time_stamp  user_id  visited\n",
       "0 2014-04-22 03:53:30        1        1\n",
       "1 2013-11-15 03:45:04        2        1\n",
       "2 2013-11-29 03:45:04        2        1\n",
       "3 2013-12-09 03:45:04        2        1\n",
       "4 2013-12-25 03:45:04        2        1"
      ]
     },
     "execution_count": 5,
     "metadata": {},
     "output_type": "execute_result"
    }
   ],
   "source": [
    "engagement.head()"
   ]
  },
  {
   "cell_type": "code",
   "execution_count": 6,
   "metadata": {},
   "outputs": [
    {
     "data": {
      "text/html": [
       "<div>\n",
       "<style scoped>\n",
       "    .dataframe tbody tr th:only-of-type {\n",
       "        vertical-align: middle;\n",
       "    }\n",
       "\n",
       "    .dataframe tbody tr th {\n",
       "        vertical-align: top;\n",
       "    }\n",
       "\n",
       "    .dataframe thead th {\n",
       "        text-align: right;\n",
       "    }\n",
       "</style>\n",
       "<table border=\"1\" class=\"dataframe\">\n",
       "  <thead>\n",
       "    <tr style=\"text-align: right;\">\n",
       "      <th></th>\n",
       "      <th>object_id</th>\n",
       "      <th>creation_time</th>\n",
       "      <th>name</th>\n",
       "      <th>email</th>\n",
       "      <th>creation_source</th>\n",
       "      <th>last_session_creation_time</th>\n",
       "      <th>opted_in_to_mailing_list</th>\n",
       "      <th>enabled_for_marketing_drip</th>\n",
       "      <th>org_id</th>\n",
       "      <th>invited_by_user_id</th>\n",
       "    </tr>\n",
       "  </thead>\n",
       "  <tbody>\n",
       "    <tr>\n",
       "      <th>0</th>\n",
       "      <td>1</td>\n",
       "      <td>2014-04-22 03:53:30</td>\n",
       "      <td>Clausen August</td>\n",
       "      <td>AugustCClausen@yahoo.com</td>\n",
       "      <td>GUEST_INVITE</td>\n",
       "      <td>1.398139e+09</td>\n",
       "      <td>1</td>\n",
       "      <td>0</td>\n",
       "      <td>11</td>\n",
       "      <td>10803.0</td>\n",
       "    </tr>\n",
       "    <tr>\n",
       "      <th>1</th>\n",
       "      <td>2</td>\n",
       "      <td>2013-11-15 03:45:04</td>\n",
       "      <td>Poole Matthew</td>\n",
       "      <td>MatthewPoole@gustr.com</td>\n",
       "      <td>ORG_INVITE</td>\n",
       "      <td>1.396238e+09</td>\n",
       "      <td>0</td>\n",
       "      <td>0</td>\n",
       "      <td>1</td>\n",
       "      <td>316.0</td>\n",
       "    </tr>\n",
       "    <tr>\n",
       "      <th>2</th>\n",
       "      <td>3</td>\n",
       "      <td>2013-03-19 23:14:52</td>\n",
       "      <td>Bottrill Mitchell</td>\n",
       "      <td>MitchellBottrill@gustr.com</td>\n",
       "      <td>ORG_INVITE</td>\n",
       "      <td>1.363735e+09</td>\n",
       "      <td>0</td>\n",
       "      <td>0</td>\n",
       "      <td>94</td>\n",
       "      <td>1525.0</td>\n",
       "    </tr>\n",
       "    <tr>\n",
       "      <th>3</th>\n",
       "      <td>4</td>\n",
       "      <td>2013-05-21 08:09:28</td>\n",
       "      <td>Clausen Nicklas</td>\n",
       "      <td>NicklasSClausen@yahoo.com</td>\n",
       "      <td>GUEST_INVITE</td>\n",
       "      <td>1.369210e+09</td>\n",
       "      <td>0</td>\n",
       "      <td>0</td>\n",
       "      <td>1</td>\n",
       "      <td>5151.0</td>\n",
       "    </tr>\n",
       "    <tr>\n",
       "      <th>4</th>\n",
       "      <td>5</td>\n",
       "      <td>2013-01-17 10:14:20</td>\n",
       "      <td>Raw Grace</td>\n",
       "      <td>GraceRaw@yahoo.com</td>\n",
       "      <td>GUEST_INVITE</td>\n",
       "      <td>1.358850e+09</td>\n",
       "      <td>0</td>\n",
       "      <td>0</td>\n",
       "      <td>193</td>\n",
       "      <td>5240.0</td>\n",
       "    </tr>\n",
       "  </tbody>\n",
       "</table>\n",
       "</div>"
      ],
      "text/plain": [
       "   object_id        creation_time               name  \\\n",
       "0          1  2014-04-22 03:53:30     Clausen August   \n",
       "1          2  2013-11-15 03:45:04      Poole Matthew   \n",
       "2          3  2013-03-19 23:14:52  Bottrill Mitchell   \n",
       "3          4  2013-05-21 08:09:28    Clausen Nicklas   \n",
       "4          5  2013-01-17 10:14:20          Raw Grace   \n",
       "\n",
       "                        email creation_source  last_session_creation_time  \\\n",
       "0    AugustCClausen@yahoo.com    GUEST_INVITE                1.398139e+09   \n",
       "1      MatthewPoole@gustr.com      ORG_INVITE                1.396238e+09   \n",
       "2  MitchellBottrill@gustr.com      ORG_INVITE                1.363735e+09   \n",
       "3   NicklasSClausen@yahoo.com    GUEST_INVITE                1.369210e+09   \n",
       "4          GraceRaw@yahoo.com    GUEST_INVITE                1.358850e+09   \n",
       "\n",
       "   opted_in_to_mailing_list  enabled_for_marketing_drip  org_id  \\\n",
       "0                         1                           0      11   \n",
       "1                         0                           0       1   \n",
       "2                         0                           0      94   \n",
       "3                         0                           0       1   \n",
       "4                         0                           0     193   \n",
       "\n",
       "   invited_by_user_id  \n",
       "0             10803.0  \n",
       "1               316.0  \n",
       "2              1525.0  \n",
       "3              5151.0  \n",
       "4              5240.0  "
      ]
     },
     "execution_count": 6,
     "metadata": {},
     "output_type": "execute_result"
    }
   ],
   "source": [
    "users.head()"
   ]
  },
  {
   "cell_type": "code",
   "execution_count": 7,
   "metadata": {},
   "outputs": [
    {
     "name": "stdout",
     "output_type": "stream",
     "text": [
      "8823\n",
      "12000\n",
      "0.73525\n"
     ]
    }
   ],
   "source": [
    "print(engagement.user_id.nunique())\n",
    "print(users.object_id.nunique())\n",
    "print(engagement.user_id.nunique()/users.object_id.nunique())"
   ]
  },
  {
   "cell_type": "markdown",
   "metadata": {},
   "source": [
    "Notice that only 8,823 of the 12,000 (or 74% of the) unique users who have signed up even appear on the engagement spreadsheet.  This is rather odd.  Even the person with user/object id 1 appears in both of the above dataframe headers despite her only engagement ever coming at the same time as her initial account creation.  This alone could be enough to make much of the following data and analysis wrong, particularly if that 74% is not representative of all registered users.  More likely, the remaining 26% was removed to act as a hold out set for machine learning predictions for a competition.  Since that cannot be known for a fact, we will proceed assuming that the missing 26% of users did not become adopted users."
   ]
  },
  {
   "cell_type": "markdown",
   "metadata": {},
   "source": [
    "### Create New Features"
   ]
  },
  {
   "cell_type": "code",
   "execution_count": 8,
   "metadata": {
    "collapsed": true
   },
   "outputs": [],
   "source": [
    "# We want to find users who are highly active within a 7 day window\n",
    "delta=datetime.timedelta(days=7)\n",
    "\n",
    "# Create a default dict to store an adopter user indicator\n",
    "adopted_user=defaultdict(int)\n",
    "# For each unique user,\n",
    "for user in engagement.user_id.unique():\n",
    "    # isolate his/her data,\n",
    "    subset=engagement[engagement.user_id==user]\n",
    "    # and iterate through each of his/her logins,\n",
    "    for i in range(len(subset)):\n",
    "        # subsetting to only the logins that occur within 7 days of that one.\n",
    "        window=subset[subset.time_stamp.between(subset.iloc[i,0],subset.iloc[i,0]+delta,inclusive=True)]\n",
    "        # If there are at least 3 such logins,\n",
    "        if len(window)>=3:\n",
    "            # label the user as an adopter user\n",
    "            adopted_user[user]=1\n",
    "            # and stop looking for instances.\n",
    "            break\n",
    "\n",
    "# Iterate through all users.\n",
    "for user in users.object_id:\n",
    "    # If a user is not yet in the dictionary,\n",
    "    if user not in adopted_user:\n",
    "        # he/she must not be an adopted user.\n",
    "        adopted_user[user] = 0\n",
    "\n",
    "# Join the adopted user data onto the users dataframe\n",
    "users['adopted']=users['object_id'].map(adopted_user)\n",
    "\n",
    "# Create a new feature on the users dataframe that indicates\n",
    "# whether they were invited by another user.\n",
    "users['invited_by_user']=users.invited_by_user_id.notnull().astype('int')"
   ]
  },
  {
   "cell_type": "code",
   "execution_count": 9,
   "metadata": {},
   "outputs": [
    {
     "name": "stdout",
     "output_type": "stream",
     "text": [
      "Counter({0: 10344, 1: 1656})\n"
     ]
    }
   ],
   "source": [
    "print(Counter(list(adopted_user.values())))"
   ]
  },
  {
   "cell_type": "code",
   "execution_count": 10,
   "metadata": {},
   "outputs": [
    {
     "name": "stdout",
     "output_type": "stream",
     "text": [
      "0.138\n"
     ]
    }
   ],
   "source": [
    "average=list(adopted_user.values()).count(1)/users.object_id.nunique()\n",
    "print(average)"
   ]
  },
  {
   "cell_type": "markdown",
   "metadata": {},
   "source": [
    "Under the above assumption, only 14% of all new users become adopted users."
   ]
  },
  {
   "cell_type": "markdown",
   "metadata": {},
   "source": [
    "### Adopted User Analysis"
   ]
  },
  {
   "cell_type": "markdown",
   "metadata": {},
   "source": [
    "To analyze which features most strongly predict conversion to an adopted user, I will analyze the total and percent total crosstabulations between various categorical features and whether the users did or did not adopt the system.  Through the analysis, 0 always means an event did not happen, while 1 means it did.\n",
    "\n",
    "I will then compute the chi squared statistic on the distribution against the null hypothesis that the categorical features are independent of whether a user adopts.  Namely, the null hypothesis is that the distribution should be equal to the average distribution for the whole population with 13.8% adopting and 86.2% not adopting.  Assume a statistical significance of $\\alpha=.05$."
   ]
  },
  {
   "cell_type": "code",
   "execution_count": 11,
   "metadata": {},
   "outputs": [
    {
     "name": "stdout",
     "output_type": "stream",
     "text": [
      "adopted                0    1  % Not Adopted  % Adopted\n",
      "creation_source                                        \n",
      "GUEST_INVITE        1794  369       0.829404   0.170596\n",
      "ORG_INVITE          3680  574       0.865068   0.134932\n",
      "PERSONAL_PROJECTS   1939  172       0.918522   0.081478\n",
      "SIGNUP              1785  302       0.855295   0.144705\n",
      "SIGNUP_GOOGLE_AUTH  1146  239       0.827437   0.172563\n"
     ]
    }
   ],
   "source": [
    "ct=pd.crosstab(users.creation_source,users.adopted)\n",
    "ct['% Not Adopted']=ct[0]/(ct[0]+ct[1])\n",
    "ct['% Adopted']=ct[1]/(ct[0]+ct[1])\n",
    "print(ct)"
   ]
  },
  {
   "cell_type": "code",
   "execution_count": 12,
   "metadata": {},
   "outputs": [
    {
     "name": "stdout",
     "output_type": "stream",
     "text": [
      "GUEST_INVITE:\n",
      "Power_divergenceResult(statistic=19.320096070207466, pvalue=1.1053682903762694e-05)\n",
      "ORG_INVITE:\n",
      "Power_divergenceResult(statistic=0.33664354575292615, pvalue=0.561773067991706)\n",
      "SIGNUP:\n",
      "Power_divergenceResult(statistic=0.7888145956227056, pvalue=0.3744588065715626)\n",
      "PERSONAL_PROJECTS:\n",
      "Power_divergenceResult(statistic=56.694032030982854, pvalue=5.09178474324349e-14)\n",
      "SIGNUP_GOOGLE_AUTH:\n",
      "Power_divergenceResult(statistic=13.908834173798185, pvalue=0.00019189441460436033)\n"
     ]
    }
   ],
   "source": [
    "for value in users.creation_source.unique():\n",
    "    total=ct.loc[value,0]+ct.loc[value,1]\n",
    "    print(str(value)+':')\n",
    "    print(chisquare([ct.loc[value,0],ct.loc[value,1]],f_exp=[(1-average)*total,average*total]))"
   ]
  },
  {
   "cell_type": "markdown",
   "metadata": {},
   "source": [
    "Having a guest invite to an organization, being invited to join a project, and joining via google are all statistically significant.  The mean number of users that become adopted users for each of these populations differs from the rate for the overall population.  We cannot confirm in which way, positively or negatively, it differs from this test, but the rates are suggestive."
   ]
  },
  {
   "cell_type": "code",
   "execution_count": 13,
   "metadata": {},
   "outputs": [
    {
     "name": "stdout",
     "output_type": "stream",
     "text": [
      "adopted                      0     1  % Not Adopted  % Adopted\n",
      "opted_in_to_mailing_list                                      \n",
      "0                         7779  1227       0.863757   0.136243\n",
      "1                         2565   429       0.856713   0.143287\n"
     ]
    }
   ],
   "source": [
    "ct=pd.crosstab(users.opted_in_to_mailing_list,users.adopted)\n",
    "ct['% Not Adopted']=ct[0]/(ct[0]+ct[1])\n",
    "ct['% Adopted']=ct[1]/(ct[0]+ct[1])\n",
    "print(ct)"
   ]
  },
  {
   "cell_type": "code",
   "execution_count": 14,
   "metadata": {},
   "outputs": [
    {
     "name": "stdout",
     "output_type": "stream",
     "text": [
      "1:\n",
      "Power_divergenceResult(statistic=0.7034187410430643, pvalue=0.40163732663966367)\n",
      "0:\n",
      "Power_divergenceResult(statistic=0.23384806914090644, pvalue=0.6286851070985109)\n"
     ]
    }
   ],
   "source": [
    "for value in users.opted_in_to_mailing_list.unique():\n",
    "    total=ct.loc[value,0]+ct.loc[value,1]\n",
    "    print(str(value)+':')\n",
    "    print(chisquare([ct.loc[value,0],ct.loc[value,1]],f_exp=[(1-average)*total,average*total]))"
   ]
  },
  {
   "cell_type": "markdown",
   "metadata": {},
   "source": [
    "Mailing list status does not seem to affect adoptation rate."
   ]
  },
  {
   "cell_type": "code",
   "execution_count": 15,
   "metadata": {},
   "outputs": [
    {
     "name": "stdout",
     "output_type": "stream",
     "text": [
      "adopted                        0     1  % Not Adopted  % Adopted\n",
      "enabled_for_marketing_drip                                      \n",
      "0                           8809  1399       0.862951   0.137049\n",
      "1                           1535   257       0.856585   0.143415\n"
     ]
    }
   ],
   "source": [
    "ct=pd.crosstab(users.enabled_for_marketing_drip,users.adopted)\n",
    "ct['% Not Adopted']=ct[0]/(ct[0]+ct[1])\n",
    "ct['% Adopted']=ct[1]/(ct[0]+ct[1])\n",
    "print(ct)"
   ]
  },
  {
   "cell_type": "code",
   "execution_count": 16,
   "metadata": {},
   "outputs": [
    {
     "name": "stdout",
     "output_type": "stream",
     "text": [
      "0:\n",
      "Power_divergenceResult(statistic=0.07754870719038472, pvalue=0.7806472276171589)\n",
      "1:\n",
      "Power_divergenceResult(statistic=0.44175067131664303, pvalue=0.5062786889962375)\n"
     ]
    }
   ],
   "source": [
    "for value in users.enabled_for_marketing_drip.unique():\n",
    "    total=ct.loc[value,0]+ct.loc[value,1]\n",
    "    print(str(value)+':')\n",
    "    print(chisquare([ct.loc[value,0],ct.loc[value,1]],f_exp=[(1-average)*total,average*total]))"
   ]
  },
  {
   "cell_type": "markdown",
   "metadata": {},
   "source": [
    "The marketing drip also seems irrelevant.  If one wanted to be completely sure, if the future a chi squared test could be run against those with the marketing drip assuming the distribution of those without the marketing drip."
   ]
  },
  {
   "cell_type": "code",
   "execution_count": 17,
   "metadata": {},
   "outputs": [
    {
     "name": "stdout",
     "output_type": "stream",
     "text": [
      "adopted             0    1  % Not Adopted  % Adopted\n",
      "invited_by_user                                     \n",
      "0                4870  713       0.872291   0.127709\n",
      "1                5474  943       0.853047   0.146953\n"
     ]
    }
   ],
   "source": [
    "ct=pd.crosstab(users.invited_by_user,users.adopted)\n",
    "ct['% Not Adopted']=ct[0]/(ct[0]+ct[1])\n",
    "ct['% Adopted']=ct[1]/(ct[0]+ct[1])\n",
    "print(ct)\n",
    "# These numbers are the same as GUEST_INVITE+ORG_INVITE"
   ]
  },
  {
   "cell_type": "code",
   "execution_count": 18,
   "metadata": {},
   "outputs": [
    {
     "name": "stdout",
     "output_type": "stream",
     "text": [
      "1:\n",
      "Power_divergenceResult(statistic=4.3243630577662335, pvalue=0.03757047275246717)\n",
      "0:\n",
      "Power_divergenceResult(statistic=4.970345287781841, pvalue=0.025785499380062776)\n"
     ]
    }
   ],
   "source": [
    "for value in users.invited_by_user.unique():\n",
    "    total=ct.loc[value,0]+ct.loc[value,1]\n",
    "    print(str(value)+':')\n",
    "    print(chisquare([ct.loc[value,0],ct.loc[value,1]],f_exp=[(1-average)*total,average*total]))"
   ]
  },
  {
   "cell_type": "markdown",
   "metadata": {},
   "source": [
    "Interestingly, the total number of users invited by another user is equal to the total number of users who created their accounts through organizational guest or full user invitations.  This relationship was not immediately apparent early and could warrant further future exploration.  Meanwhile, the rates of adoptation do have a statistically significant difference from the overall adoptation rates despite the rates being minimally different."
   ]
  },
  {
   "cell_type": "markdown",
   "metadata": {},
   "source": [
    "Further studies could include whether certain organizations are more likely to have adopted users, or whether users invited by adopted users are more likely to become adopted users.  Does it matter if the invite comes from someone who is not yet an adopted user but becomes one in the future?  Are some people who invite more persuasive in convincing their friends to become adopted users?  Does it matter what day of the week or month of the year a user signs up?"
   ]
  },
  {
   "cell_type": "markdown",
   "metadata": {},
   "source": [
    "### Conclusion"
   ]
  },
  {
   "cell_type": "markdown",
   "metadata": {},
   "source": [
    "Recall that this analysis rests heavily on the assumption that all users not appearing in the engagements file did not become adopted users.  With that in mind, the strongest predictive statistic was creating an account via an invitation to join another individual's workspace.  This saw the adoptation rate drop all the way to 8.1%.  On the other hand, organizational guest invitations and Google account creations both experienced higher conversion rates.    Relax Inc. should focus their efforts on obtaining new customers via existing customer invitations and further target larger organizations.\n",
    "\n",
    "Also consider that qualifying a user as being adopted for using the system at least three different days for at least one single week is a very light criteria.  It only indicated active use over a short term and is not and indicator of long term loyalty."
   ]
  }
 ],
 "metadata": {
  "kernelspec": {
   "display_name": "Python 3",
   "language": "python",
   "name": "python3"
  },
  "language_info": {
   "codemirror_mode": {
    "name": "ipython",
    "version": 3
   },
   "file_extension": ".py",
   "mimetype": "text/x-python",
   "name": "python",
   "nbconvert_exporter": "python",
   "pygments_lexer": "ipython3",
   "version": "3.6.3"
  }
 },
 "nbformat": 4,
 "nbformat_minor": 2
}
