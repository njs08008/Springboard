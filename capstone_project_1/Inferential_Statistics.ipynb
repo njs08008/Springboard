{
 "cells": [
  {
   "cell_type": "markdown",
   "metadata": {},
   "source": [
    "# Capstone Project 1 Inferential Statistics"
   ]
  },
  {
   "cell_type": "markdown",
   "metadata": {},
   "source": [
    "The goal of this notebook is to present inferential statistics about the Walmart dataset."
   ]
  },
  {
   "cell_type": "markdown",
   "metadata": {},
   "source": [
    "## The Issue On Hand"
   ]
  },
  {
   "cell_type": "markdown",
   "metadata": {},
   "source": [
    "This particular dataset does not lend itself way to a statistical analysis.  Recall that of the 6 original predictive variables, only one of them is numeric: `scan_count`.  Furthermore, this value is limited to being an integer.  It is not even possible to use this value to create a linear regression since the target variable is categorical with 39 different possibilities.  There are no correlations, p-values, standard deviations, confidence intervals, or any other high-level statistic that can be computed.  Instead, we are limited to exploring variables individually and simply counting how often they occur.\n",
    "\n",
    "To this end, I refer the reader back to the data wrangling and storytelling notebooks for this project, which include many such summary descriptions and further discussion of their implications as well as graphics.\n",
    "\n",
    "While it is in general possible to perform hypothesis testing with categorical variables, the process does not sensibly apply to this situation.  There is no way to, for instance, permute the values of certain variables and see whether this would change the assign trip type in order to determine whether that variable was statistically significant.  Instead, a machine learning model such as a decision tree would be much better at answering such questions about the importance of individual variables.  A predictive model will be made in future steps."
   ]
  }
 ],
 "metadata": {
  "kernelspec": {
   "display_name": "Python 3",
   "language": "python",
   "name": "python3"
  },
  "language_info": {
   "codemirror_mode": {
    "name": "ipython",
    "version": 3
   },
   "file_extension": ".py",
   "mimetype": "text/x-python",
   "name": "python",
   "nbconvert_exporter": "python",
   "pygments_lexer": "ipython3",
   "version": "3.6.3"
  }
 },
 "nbformat": 4,
 "nbformat_minor": 2
}
